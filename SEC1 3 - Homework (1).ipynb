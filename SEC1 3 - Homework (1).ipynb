{
 "cells": [
  {
   "cell_type": "markdown",
   "id": "2a435462",
   "metadata": {},
   "source": [
    "# Econ 441b HW 3"
   ]
  },
  {
   "cell_type": "code",
   "execution_count": 1,
   "id": "1022e4d8",
   "metadata": {},
   "outputs": [
    {
     "name": "stdout",
     "output_type": "stream",
     "text": [
      "Intel MKL WARNING: Support of Intel(R) Streaming SIMD Extensions 4.2 (Intel(R) SSE4.2) enabled only processors has been deprecated. Intel oneAPI Math Kernel Library 2025.0 will require Intel(R) Advanced Vector Extensions (Intel(R) AVX) instructions.\n",
      "Intel MKL WARNING: Support of Intel(R) Streaming SIMD Extensions 4.2 (Intel(R) SSE4.2) enabled only processors has been deprecated. Intel oneAPI Math Kernel Library 2025.0 will require Intel(R) Advanced Vector Extensions (Intel(R) AVX) instructions.\n"
     ]
    }
   ],
   "source": [
    "import pandas as pd\n",
    "import sklearn as sk\n",
    "from sklearn.linear_model import LinearRegression\n",
    "from sklearn.preprocessing import StandardScaler\n",
    "from sklearn.linear_model import Lasso"
   ]
  },
  {
   "cell_type": "markdown",
   "id": "a98f5070",
   "metadata": {},
   "source": [
    "# 0.) Clean the Apple Data to get a quarterly series of EPS."
   ]
  },
  {
   "cell_type": "code",
   "execution_count": 2,
   "id": "c7f8e883",
   "metadata": {},
   "outputs": [
    {
     "data": {
      "text/html": [
       "<div>\n",
       "<style scoped>\n",
       "    .dataframe tbody tr th:only-of-type {\n",
       "        vertical-align: middle;\n",
       "    }\n",
       "\n",
       "    .dataframe tbody tr th {\n",
       "        vertical-align: top;\n",
       "    }\n",
       "\n",
       "    .dataframe thead th {\n",
       "        text-align: right;\n",
       "    }\n",
       "</style>\n",
       "<table border=\"1\" class=\"dataframe\">\n",
       "  <thead>\n",
       "    <tr style=\"text-align: right;\">\n",
       "      <th></th>\n",
       "      <th>BasicEPS</th>\n",
       "    </tr>\n",
       "  </thead>\n",
       "  <tbody>\n",
       "    <tr>\n",
       "      <th>1985-09-30</th>\n",
       "      <td>0.0</td>\n",
       "    </tr>\n",
       "    <tr>\n",
       "      <th>1985-12-31</th>\n",
       "      <td>0.004</td>\n",
       "    </tr>\n",
       "    <tr>\n",
       "      <th>1986-03-31</th>\n",
       "      <td>0.002</td>\n",
       "    </tr>\n",
       "    <tr>\n",
       "      <th>1986-06-30</th>\n",
       "      <td>0.002</td>\n",
       "    </tr>\n",
       "    <tr>\n",
       "      <th>1986-09-30</th>\n",
       "      <td>0.0</td>\n",
       "    </tr>\n",
       "    <tr>\n",
       "      <th>...</th>\n",
       "      <td>...</td>\n",
       "    </tr>\n",
       "    <tr>\n",
       "      <th>2022-09-30</th>\n",
       "      <td>1.29</td>\n",
       "    </tr>\n",
       "    <tr>\n",
       "      <th>2022-12-31</th>\n",
       "      <td>1.89</td>\n",
       "    </tr>\n",
       "    <tr>\n",
       "      <th>2023-03-31</th>\n",
       "      <td>1.53</td>\n",
       "    </tr>\n",
       "    <tr>\n",
       "      <th>2023-06-30</th>\n",
       "      <td>1.27</td>\n",
       "    </tr>\n",
       "    <tr>\n",
       "      <th>2023-09-30</th>\n",
       "      <td>1.47</td>\n",
       "    </tr>\n",
       "  </tbody>\n",
       "</table>\n",
       "<p>153 rows × 1 columns</p>\n",
       "</div>"
      ],
      "text/plain": [
       "           BasicEPS\n",
       "1985-09-30      0.0\n",
       "1985-12-31    0.004\n",
       "1986-03-31    0.002\n",
       "1986-06-30    0.002\n",
       "1986-09-30      0.0\n",
       "...             ...\n",
       "2022-09-30     1.29\n",
       "2022-12-31     1.89\n",
       "2023-03-31     1.53\n",
       "2023-06-30     1.27\n",
       "2023-09-30     1.47\n",
       "\n",
       "[153 rows x 1 columns]"
      ]
     },
     "execution_count": 2,
     "metadata": {},
     "output_type": "execute_result"
    }
   ],
   "source": [
    "y = pd.read_csv('AAPL_quarterly_financials.csv')\n",
    "y.index =y.name\n",
    "y= pd.DataFrame(y.loc['BasicEPS', :]).iloc[2:,:]\n",
    "y.index = pd.to_datetime(y.index)\n",
    "#chech if Nas are no dividend period\n",
    "y.sort_index().fillna(0.)"
   ]
  },
  {
   "cell_type": "markdown",
   "id": "afe7ef51",
   "metadata": {},
   "source": [
    "# 1.) Come up with 6 search terms you think could nowcast earnings. (Different than the ones I used) Add in 3 terms that that you think will not Nowcast earnings. Pull in the gtrends data. Clean it to have a quarterly average."
   ]
  },
  {
   "cell_type": "code",
   "execution_count": 3,
   "id": "e0dfa161",
   "metadata": {
    "scrolled": true
   },
   "outputs": [
    {
     "name": "stdout",
     "output_type": "stream",
     "text": [
      "Requirement already satisfied: pytrends in /Users/qiupinxuan/opt/anaconda3/lib/python3.9/site-packages (4.9.2)\n",
      "Requirement already satisfied: requests>=2.0 in /Users/qiupinxuan/opt/anaconda3/lib/python3.9/site-packages (from pytrends) (2.31.0)\n",
      "Requirement already satisfied: pandas>=0.25 in /Users/qiupinxuan/opt/anaconda3/lib/python3.9/site-packages (from pytrends) (1.5.3)\n",
      "Requirement already satisfied: lxml in /Users/qiupinxuan/opt/anaconda3/lib/python3.9/site-packages (from pytrends) (4.9.3)\n",
      "Requirement already satisfied: python-dateutil>=2.8.1 in /Users/qiupinxuan/opt/anaconda3/lib/python3.9/site-packages (from pandas>=0.25->pytrends) (2.8.2)\n",
      "Requirement already satisfied: pytz>=2020.1 in /Users/qiupinxuan/opt/anaconda3/lib/python3.9/site-packages (from pandas>=0.25->pytrends) (2023.3.post1)\n",
      "Requirement already satisfied: numpy>=1.20.3 in /Users/qiupinxuan/opt/anaconda3/lib/python3.9/site-packages (from pandas>=0.25->pytrends) (1.23.5)\n",
      "Requirement already satisfied: charset-normalizer<4,>=2 in /Users/qiupinxuan/opt/anaconda3/lib/python3.9/site-packages (from requests>=2.0->pytrends) (2.0.4)\n",
      "Requirement already satisfied: idna<4,>=2.5 in /Users/qiupinxuan/opt/anaconda3/lib/python3.9/site-packages (from requests>=2.0->pytrends) (3.4)\n",
      "Requirement already satisfied: urllib3<3,>=1.21.1 in /Users/qiupinxuan/opt/anaconda3/lib/python3.9/site-packages (from requests>=2.0->pytrends) (1.26.16)\n",
      "Requirement already satisfied: certifi>=2017.4.17 in /Users/qiupinxuan/opt/anaconda3/lib/python3.9/site-packages (from requests>=2.0->pytrends) (2023.11.17)\n",
      "Requirement already satisfied: six>=1.5 in /Users/qiupinxuan/opt/anaconda3/lib/python3.9/site-packages (from python-dateutil>=2.8.1->pandas>=0.25->pytrends) (1.16.0)\n",
      "\u001b[33mWARNING: There was an error checking the latest version of pip.\u001b[0m\u001b[33m\n",
      "\u001b[0mNote: you may need to restart the kernel to use updated packages.\n"
     ]
    }
   ],
   "source": [
    "pip install pytrends"
   ]
  },
  {
   "cell_type": "code",
   "execution_count": 4,
   "id": "6eca339f",
   "metadata": {},
   "outputs": [],
   "source": [
    "from pytrends.request import TrendReq"
   ]
  },
  {
   "cell_type": "code",
   "execution_count": 19,
   "id": "5ab325a4",
   "metadata": {},
   "outputs": [],
   "source": [
    "# Create pytrends object\n",
    "pytrends = TrendReq(hl='en-US', tz=360)\n",
    "\n",
    "# Set up the keywords and the timeframe\n",
    "keywords = [\"Iphone\", \"Covid\",\"Huawei\",\"Interest Rates\", \"ucla\",\"Tylor Swift tickets\", \"Apple Share\"]  \n",
    "# Add your keywords here: Covid, Huawei, war, ucla, chip storage, Tylor Swift tickets.\n",
    "start_date = '2004-01-01'\n",
    "end_date = '2024-01-01'\n",
    "\n",
    "# Create an empty DataFrame to store the results\n",
    "df = pd.DataFrame()\n",
    "\n",
    "# Iterate through keywords and fetch data\n",
    "for keyword in keywords:\n",
    "    #time.sleep(5)\n",
    "    pytrends.build_payload([keyword], cat=0, timeframe=f'{start_date} {end_date}', geo='', gprop='')\n",
    "    interest_over_time_df = pytrends.interest_over_time()\n",
    "    df[keyword] = interest_over_time_df[keyword]"
   ]
  },
  {
   "cell_type": "code",
   "execution_count": 20,
   "id": "3f665df1",
   "metadata": {
    "scrolled": true
   },
   "outputs": [
    {
     "data": {
      "text/html": [
       "<div>\n",
       "<style scoped>\n",
       "    .dataframe tbody tr th:only-of-type {\n",
       "        vertical-align: middle;\n",
       "    }\n",
       "\n",
       "    .dataframe tbody tr th {\n",
       "        vertical-align: top;\n",
       "    }\n",
       "\n",
       "    .dataframe thead th {\n",
       "        text-align: right;\n",
       "    }\n",
       "</style>\n",
       "<table border=\"1\" class=\"dataframe\">\n",
       "  <thead>\n",
       "    <tr style=\"text-align: right;\">\n",
       "      <th></th>\n",
       "      <th>Iphone</th>\n",
       "      <th>Covid</th>\n",
       "      <th>Huawei</th>\n",
       "      <th>Interest Rates</th>\n",
       "      <th>ucla</th>\n",
       "      <th>Tylor Swift tickets</th>\n",
       "      <th>Apple Share</th>\n",
       "    </tr>\n",
       "    <tr>\n",
       "      <th>date</th>\n",
       "      <th></th>\n",
       "      <th></th>\n",
       "      <th></th>\n",
       "      <th></th>\n",
       "      <th></th>\n",
       "      <th></th>\n",
       "      <th></th>\n",
       "    </tr>\n",
       "  </thead>\n",
       "  <tbody>\n",
       "    <tr>\n",
       "      <th>2004-03-31</th>\n",
       "      <td>0.000000</td>\n",
       "      <td>0.000000</td>\n",
       "      <td>0.0</td>\n",
       "      <td>60.000000</td>\n",
       "      <td>88.333333</td>\n",
       "      <td>0.000000</td>\n",
       "      <td>9.666667</td>\n",
       "    </tr>\n",
       "    <tr>\n",
       "      <th>2004-06-30</th>\n",
       "      <td>0.000000</td>\n",
       "      <td>0.000000</td>\n",
       "      <td>1.0</td>\n",
       "      <td>64.333333</td>\n",
       "      <td>82.666667</td>\n",
       "      <td>0.000000</td>\n",
       "      <td>8.333333</td>\n",
       "    </tr>\n",
       "    <tr>\n",
       "      <th>2004-09-30</th>\n",
       "      <td>0.000000</td>\n",
       "      <td>0.000000</td>\n",
       "      <td>1.0</td>\n",
       "      <td>53.000000</td>\n",
       "      <td>74.333333</td>\n",
       "      <td>22.666667</td>\n",
       "      <td>8.000000</td>\n",
       "    </tr>\n",
       "    <tr>\n",
       "      <th>2004-12-31</th>\n",
       "      <td>0.000000</td>\n",
       "      <td>0.000000</td>\n",
       "      <td>1.0</td>\n",
       "      <td>46.333333</td>\n",
       "      <td>85.000000</td>\n",
       "      <td>33.333333</td>\n",
       "      <td>9.333333</td>\n",
       "    </tr>\n",
       "    <tr>\n",
       "      <th>2005-03-31</th>\n",
       "      <td>0.000000</td>\n",
       "      <td>0.000000</td>\n",
       "      <td>1.0</td>\n",
       "      <td>48.333333</td>\n",
       "      <td>82.666667</td>\n",
       "      <td>13.333333</td>\n",
       "      <td>12.000000</td>\n",
       "    </tr>\n",
       "    <tr>\n",
       "      <th>...</th>\n",
       "      <td>...</td>\n",
       "      <td>...</td>\n",
       "      <td>...</td>\n",
       "      <td>...</td>\n",
       "      <td>...</td>\n",
       "      <td>...</td>\n",
       "      <td>...</td>\n",
       "    </tr>\n",
       "    <tr>\n",
       "      <th>2023-03-31</th>\n",
       "      <td>46.000000</td>\n",
       "      <td>7.666667</td>\n",
       "      <td>28.0</td>\n",
       "      <td>83.000000</td>\n",
       "      <td>41.333333</td>\n",
       "      <td>2.666667</td>\n",
       "      <td>53.666667</td>\n",
       "    </tr>\n",
       "    <tr>\n",
       "      <th>2023-06-30</th>\n",
       "      <td>44.666667</td>\n",
       "      <td>5.000000</td>\n",
       "      <td>26.0</td>\n",
       "      <td>73.000000</td>\n",
       "      <td>29.000000</td>\n",
       "      <td>6.333333</td>\n",
       "      <td>49.666667</td>\n",
       "    </tr>\n",
       "    <tr>\n",
       "      <th>2023-09-30</th>\n",
       "      <td>53.333333</td>\n",
       "      <td>6.000000</td>\n",
       "      <td>28.0</td>\n",
       "      <td>73.666667</td>\n",
       "      <td>29.000000</td>\n",
       "      <td>13.333333</td>\n",
       "      <td>59.000000</td>\n",
       "    </tr>\n",
       "    <tr>\n",
       "      <th>2023-12-31</th>\n",
       "      <td>51.000000</td>\n",
       "      <td>6.333333</td>\n",
       "      <td>27.0</td>\n",
       "      <td>67.666667</td>\n",
       "      <td>38.666667</td>\n",
       "      <td>4.333333</td>\n",
       "      <td>51.000000</td>\n",
       "    </tr>\n",
       "    <tr>\n",
       "      <th>2024-03-31</th>\n",
       "      <td>47.000000</td>\n",
       "      <td>6.000000</td>\n",
       "      <td>25.0</td>\n",
       "      <td>70.000000</td>\n",
       "      <td>30.000000</td>\n",
       "      <td>4.000000</td>\n",
       "      <td>51.000000</td>\n",
       "    </tr>\n",
       "  </tbody>\n",
       "</table>\n",
       "<p>81 rows × 7 columns</p>\n",
       "</div>"
      ],
      "text/plain": [
       "               Iphone     Covid  Huawei  Interest Rates       ucla  \\\n",
       "date                                                                 \n",
       "2004-03-31   0.000000  0.000000     0.0       60.000000  88.333333   \n",
       "2004-06-30   0.000000  0.000000     1.0       64.333333  82.666667   \n",
       "2004-09-30   0.000000  0.000000     1.0       53.000000  74.333333   \n",
       "2004-12-31   0.000000  0.000000     1.0       46.333333  85.000000   \n",
       "2005-03-31   0.000000  0.000000     1.0       48.333333  82.666667   \n",
       "...               ...       ...     ...             ...        ...   \n",
       "2023-03-31  46.000000  7.666667    28.0       83.000000  41.333333   \n",
       "2023-06-30  44.666667  5.000000    26.0       73.000000  29.000000   \n",
       "2023-09-30  53.333333  6.000000    28.0       73.666667  29.000000   \n",
       "2023-12-31  51.000000  6.333333    27.0       67.666667  38.666667   \n",
       "2024-03-31  47.000000  6.000000    25.0       70.000000  30.000000   \n",
       "\n",
       "            Tylor Swift tickets  Apple Share  \n",
       "date                                          \n",
       "2004-03-31             0.000000     9.666667  \n",
       "2004-06-30             0.000000     8.333333  \n",
       "2004-09-30            22.666667     8.000000  \n",
       "2004-12-31            33.333333     9.333333  \n",
       "2005-03-31            13.333333    12.000000  \n",
       "...                         ...          ...  \n",
       "2023-03-31             2.666667    53.666667  \n",
       "2023-06-30             6.333333    49.666667  \n",
       "2023-09-30            13.333333    59.000000  \n",
       "2023-12-31             4.333333    51.000000  \n",
       "2024-03-31             4.000000    51.000000  \n",
       "\n",
       "[81 rows x 7 columns]"
      ]
     },
     "execution_count": 20,
     "metadata": {},
     "output_type": "execute_result"
    }
   ],
   "source": [
    "X = df.resample('Q').mean()\n",
    "X"
   ]
  },
  {
   "cell_type": "code",
   "execution_count": 21,
   "id": "4aea9135",
   "metadata": {},
   "outputs": [],
   "source": [
    "# fix data\n",
    "temp = pd.concat([y,X],axis =1).dropna()\n",
    "y = temp[['BasicEPS']].copy()\n",
    "X = temp.iloc[:,1:].copy()"
   ]
  },
  {
   "cell_type": "markdown",
   "id": "2c1b3d9a",
   "metadata": {},
   "source": [
    "# 2.)  Normalize all the X dataImport data. "
   ]
  },
  {
   "cell_type": "code",
   "execution_count": 22,
   "id": "0cf724f7",
   "metadata": {},
   "outputs": [],
   "source": [
    "scaler = StandardScaler()"
   ]
  },
  {
   "cell_type": "code",
   "execution_count": 23,
   "id": "5694510c",
   "metadata": {},
   "outputs": [],
   "source": [
    "X_scaled = scaler.fit_transform(X)"
   ]
  },
  {
   "cell_type": "markdown",
   "id": "da43d5ef",
   "metadata": {},
   "source": [
    "# 4.) Run a Lasso with lambda of .1. Plot a bar chart."
   ]
  },
  {
   "cell_type": "code",
   "execution_count": 24,
   "id": "b7ff06aa",
   "metadata": {},
   "outputs": [],
   "source": [
    "lasso = Lasso (alpha=0.1)"
   ]
  },
  {
   "cell_type": "code",
   "execution_count": 25,
   "id": "78fd70d3",
   "metadata": {},
   "outputs": [
    {
     "data": {
      "text/plain": [
       "Lasso(alpha=0.1)"
      ]
     },
     "execution_count": 25,
     "metadata": {},
     "output_type": "execute_result"
    }
   ],
   "source": [
    "lasso.fit(X_scaled,y)\n"
   ]
  },
  {
   "cell_type": "code",
   "execution_count": 26,
   "id": "f7311bec",
   "metadata": {},
   "outputs": [
    {
     "data": {
      "text/plain": [
       "array([ 0.00445588,  0.        ,  0.        ,  0.        , -0.        ,\n",
       "       -0.        ,  0.34972203])"
      ]
     },
     "execution_count": 26,
     "metadata": {},
     "output_type": "execute_result"
    }
   ],
   "source": [
    "coef = lasso.coef_\n",
    "coef"
   ]
  },
  {
   "cell_type": "code",
   "execution_count": 27,
   "id": "6f3f96bd",
   "metadata": {},
   "outputs": [
    {
     "data": {
      "image/png": "[encoded data removed]",
      "text/plain": [
       "<Figure size 640x480 with 1 Axes>"
      ]
     },
     "metadata": {},
     "output_type": "display_data"
    }
   ],
   "source": [
    "import matplotlib.pyplot as plt\n",
    "plt.bar(range(len(coef)),coef)\n",
    "plt.xticks(range(len(coef)), X.columns, rotation=60)\n",
    "plt.axhline(0,color ='r')\n",
    "plt.title('Bar Chart')\n",
    "plt.show()\n"
   ]
  },
  {
   "cell_type": "markdown",
   "id": "8de2bbcd",
   "metadata": {},
   "source": [
    "# 4)Run a Lasso with lambda of .5. Plot a bar chart."
   ]
  },
  {
   "cell_type": "code",
   "execution_count": 29,
   "id": "6aa53f03",
   "metadata": {},
   "outputs": [
    {
     "data": {
      "image/png": "[encoded data removed]",
      "text/plain": [
       "<Figure size 640x480 with 1 Axes>"
      ]
     },
     "metadata": {},
     "output_type": "display_data"
    }
   ],
   "source": [
    "lasso = Lasso (alpha=0.5)\n",
    "lasso.fit(X_scaled,y)\n",
    "coef = lasso.coef_\n",
    "coef\n",
    "plt.bar(range(len(coef)),coef)\n",
    "plt.xticks(range(len(coef)), X.columns, rotation=60)\n",
    "plt.axhline(0,color ='r')\n",
    "plt.title('Bar Chart')\n",
    "plt.show()"
   ]
  },
  {
   "cell_type": "markdown",
   "id": "bf39bffa",
   "metadata": {},
   "source": [
    "But if the we use the lambda 0.5. We will find that all become zero which means no important impact on earnings for all these variables. So it is important to choose lamda."
   ]
  },
  {
   "cell_type": "markdown",
   "id": "e130a2be",
   "metadata": {},
   "source": [
    "# 5.) Do these coefficient magnitudes make sense?"
   ]
  },
  {
   "cell_type": "markdown",
   "id": "4c757a60",
   "metadata": {},
   "source": [
    "It means when we could consider apple share and iphone as an important search term when nowcasting earnings. Other coeffients of variables like covid, ucla, Tylor Swift tichkets that are not related to the earnings are obvious to be zero."
   ]
  }
 ],
 "metadata": {
  "kernelspec": {
   "display_name": "Python 3 (ipykernel)",
   "language": "python",
   "name": "python3"
  },
  "language_info": {
   "codemirror_mode": {
    "name": "ipython",
    "version": 3
   },
   "file_extension": ".py",
   "mimetype": "text/x-python",
   "name": "python",
   "nbconvert_exporter": "python",
   "pygments_lexer": "ipython3",
   "version": "3.9.18"
  }
 },
 "nbformat": 4,
 "nbformat_minor": 5
}
